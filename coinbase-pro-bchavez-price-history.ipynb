{
 "cells": [
  {
   "cell_type": "code",
   "execution_count": null,
   "metadata": {
    "dotnet_interactive": {
     "language": "csharp"
    }
   },
   "outputs": [
    {
     "data": {
      "text/html": [
       "<div><div></div><div></div><div><strong>Installed Packages</strong><ul><li><span>Coinbase.Pro, 4.1.3</span></li></ul></div></div>"
      ]
     },
     "metadata": {},
     "output_type": "display_data"
    }
   ],
   "source": [
    "#r \"nuget: Coinbase.Pro\""
   ]
  },
  {
   "cell_type": "code",
   "execution_count": null,
   "metadata": {
    "dotnet_interactive": {
     "language": "csharp"
    }
   },
   "outputs": [],
   "source": [
    "using System.IO;\n",
    "using Coinbase.Pro;\n",
    "using Coinbase.Pro.Models;"
   ]
  },
  {
   "cell_type": "code",
   "execution_count": null,
   "metadata": {
    "dotnet_interactive": {
     "language": "csharp"
    }
   },
   "outputs": [],
   "source": [
    "var api_key = File.ReadAllText(\n",
    "    Path.Combine(\n",
    "        Environment.GetFolderPath(Environment.SpecialFolder.UserProfile), \n",
    "        \"coinbase-pro-api-key\"), \n",
    "    System.Text.Encoding.UTF8);\n",
    "\n",
    "var api_secret = File.ReadAllText(\n",
    "    Path.Combine(\n",
    "        Environment.GetFolderPath(Environment.SpecialFolder.UserProfile), \n",
    "        \"coinbase-pro-api-secret\"), \n",
    "    System.Text.Encoding.UTF8);\n",
    "\n",
    "var api_passphrase = File.ReadAllText(\n",
    "    Path.Combine(\n",
    "        Environment.GetFolderPath(Environment.SpecialFolder.UserProfile), \n",
    "        \"coinbase-pro-api-passphrase\"), \n",
    "    System.Text.Encoding.UTF8);"
   ]
  },
  {
   "cell_type": "code",
   "execution_count": null,
   "metadata": {
    "dotnet_interactive": {
     "language": "csharp"
    }
   },
   "outputs": [],
   "source": [
    "var client = new CoinbaseProClient(new Config() \n",
    "{\n",
    "    ApiKey = api_key,\n",
    "    Secret = api_secret,\n",
    "    Passphrase = api_passphrase\n",
    "});"
   ]
  },
  {
   "cell_type": "code",
   "execution_count": null,
   "metadata": {
    "dotnet_interactive": {
     "language": "csharp"
    }
   },
   "outputs": [
    {
     "data": {
      "text/html": [
       "<table><thead><tr><th><i>index</i></th><th>BaseCurrency</th><th>BaseMaxSize</th><th>BaseMinSize</th><th>CancelOnly</th><th>DisplayName</th><th>Id</th><th>LimitOnly</th><th>MarginEnabled</th><th>MaxMarketFunds</th><th>MinMarketFunds</th><th>PostOnly</th><th>TradingDisabled</th><th>QuoteCurrency</th><th>QuoteIncrement</th><th>BaseIncrement</th><th>Status</th><th>StatusMessage</th><th>ExtraJson</th></tr></thead><tbody><tr><td>0</td><td>BTC</td><td><div class=\"dni-plaintext\">280</div></td><td><div class=\"dni-plaintext\">0.000021</div></td><td><div class=\"dni-plaintext\">False</div></td><td>BTC/USD</td><td>BTC-USD</td><td><div class=\"dni-plaintext\">False</div></td><td><div class=\"dni-plaintext\">False</div></td><td><div class=\"dni-plaintext\">5000000</div></td><td><div class=\"dni-plaintext\">1</div></td><td><div class=\"dni-plaintext\">False</div></td><td><div class=\"dni-plaintext\">False</div></td><td>USD</td><td><div class=\"dni-plaintext\">0.01</div></td><td><div class=\"dni-plaintext\">0.00000001</div></td><td>online</td><td></td><td><div class=\"dni-plaintext\">[ { [fx_stablecoin, False]: Key: fx_stablecoin, Value: [  ] }, { [max_slippage_percentage, 0.02000000]: Key: max_slippage_percentage, Value: [  ] }, { [auction_mode, False]: Key: auction_mode, Value: [  ] } ]</div></td></tr></tbody></table>"
      ]
     },
     "metadata": {},
     "output_type": "display_data"
    }
   ],
   "source": [
    "client.MarketData.GetProductsAsync().Result.Where(product => product.DisplayName == \"BTC/USD\")"
   ]
  },
  {
   "cell_type": "code",
   "execution_count": null,
   "metadata": {
    "dotnet_interactive": {
     "language": "csharp"
    }
   },
   "outputs": [],
   "source": [
    "var result = client.MarketData.GetHistoricRatesAsync(\"BTC-USD\", new DateTime(2021, 1, 1), new DateTime(2021, 2, 1), 86400).Result;"
   ]
  },
  {
   "cell_type": "code",
   "execution_count": null,
   "metadata": {
    "dotnet_interactive": {
     "language": "csharp"
    }
   },
   "outputs": [
    {
     "data": {
      "text/html": [
       "<table><thead><tr><th><i>index</i></th><th>Time</th><th>Low</th><th>High</th><th>Open</th><th>Close</th><th>Volume</th></tr></thead><tbody><tr><td>0</td><td><span>2021-02-01 00:00:00Z</span></td><td><div class=\"dni-plaintext\">32333</div></td><td><div class=\"dni-plaintext\">34728.57</div></td><td><div class=\"dni-plaintext\">33137.75</div></td><td><div class=\"dni-plaintext\">33533.19</div></td><td><div class=\"dni-plaintext\">21975.41378272</div></td></tr><tr><td>1</td><td><span>2021-01-31 00:00:00Z</span></td><td><div class=\"dni-plaintext\">32200</div></td><td><div class=\"dni-plaintext\">34387.75</div></td><td><div class=\"dni-plaintext\">34315.63</div></td><td><div class=\"dni-plaintext\">33137.74</div></td><td><div class=\"dni-plaintext\">16436.39757593</div></td></tr><tr><td>2</td><td><span>2021-01-30 00:00:00Z</span></td><td><div class=\"dni-plaintext\">32852.86</div></td><td><div class=\"dni-plaintext\">34900</div></td><td><div class=\"dni-plaintext\">34262.11</div></td><td><div class=\"dni-plaintext\">34315.63</div></td><td><div class=\"dni-plaintext\">21362.15173754</div></td></tr><tr><td>3</td><td><span>2021-01-29 00:00:00Z</span></td><td><div class=\"dni-plaintext\">31990</div></td><td><div class=\"dni-plaintext\">38570.13</div></td><td><div class=\"dni-plaintext\">33487.92</div></td><td><div class=\"dni-plaintext\">34262.11</div></td><td><div class=\"dni-plaintext\">72641.07974951</div></td></tr><tr><td>4</td><td><span>2021-01-28 00:00:00Z</span></td><td><div class=\"dni-plaintext\">29902.14</div></td><td><div class=\"dni-plaintext\">34000</div></td><td><div class=\"dni-plaintext\">30414.11</div></td><td><div class=\"dni-plaintext\">33488.99</div></td><td><div class=\"dni-plaintext\">36007.06269488</div></td></tr><tr><td>5</td><td><span>2021-01-27 00:00:00Z</span></td><td><div class=\"dni-plaintext\">29156</div></td><td><div class=\"dni-plaintext\">32584.62</div></td><td><div class=\"dni-plaintext\">32510.82</div></td><td><div class=\"dni-plaintext\">30407.13</div></td><td><div class=\"dni-plaintext\">46207.08537355</div></td></tr><tr><td>6</td><td><span>2021-01-26 00:00:00Z</span></td><td><div class=\"dni-plaintext\">30830</div></td><td><div class=\"dni-plaintext\">32960.37</div></td><td><div class=\"dni-plaintext\">32260.52</div></td><td><div class=\"dni-plaintext\">32510.82</div></td><td><div class=\"dni-plaintext\">23535.83891688</div></td></tr><tr><td>7</td><td><span>2021-01-25 00:00:00Z</span></td><td><div class=\"dni-plaintext\">31920.8</div></td><td><div class=\"dni-plaintext\">34888</div></td><td><div class=\"dni-plaintext\">32293.18</div></td><td><div class=\"dni-plaintext\">32261.87</div></td><td><div class=\"dni-plaintext\">23045.66293389</div></td></tr><tr><td>8</td><td><span>2021-01-24 00:00:00Z</span></td><td><div class=\"dni-plaintext\">30931.21</div></td><td><div class=\"dni-plaintext\">33086.53</div></td><td><div class=\"dni-plaintext\">32110</div></td><td><div class=\"dni-plaintext\">32288.56</div></td><td><div class=\"dni-plaintext\">13618.80097809</div></td></tr><tr><td>9</td><td><span>2021-01-23 00:00:00Z</span></td><td><div class=\"dni-plaintext\">31432.19</div></td><td><div class=\"dni-plaintext\">33488.79</div></td><td><div class=\"dni-plaintext\">32982.66</div></td><td><div class=\"dni-plaintext\">32112.01</div></td><td><div class=\"dni-plaintext\">16139.81478284</div></td></tr><tr><td>10</td><td><span>2021-01-22 00:00:00Z</span></td><td><div class=\"dni-plaintext\">28732</div></td><td><div class=\"dni-plaintext\">33867</div></td><td><div class=\"dni-plaintext\">30855.9</div></td><td><div class=\"dni-plaintext\">32984.93</div></td><td><div class=\"dni-plaintext\">48155.72161708</div></td></tr><tr><td>11</td><td><span>2021-01-21 00:00:00Z</span></td><td><div class=\"dni-plaintext\">30011</div></td><td><div class=\"dni-plaintext\">35628.24</div></td><td><div class=\"dni-plaintext\">35498.85</div></td><td><div class=\"dni-plaintext\">30855.95</div></td><td><div class=\"dni-plaintext\">50473.11375071</div></td></tr><tr><td>12</td><td><span>2021-01-20 00:00:00Z</span></td><td><div class=\"dni-plaintext\">33387.01</div></td><td><div class=\"dni-plaintext\">36415.34</div></td><td><div class=\"dni-plaintext\">35921.91</div></td><td><div class=\"dni-plaintext\">35503.09</div></td><td><div class=\"dni-plaintext\">25445.70800774</div></td></tr><tr><td>13</td><td><span>2021-01-19 00:00:00Z</span></td><td><div class=\"dni-plaintext\">35895.11</div></td><td><div class=\"dni-plaintext\">37857</div></td><td><div class=\"dni-plaintext\">36624.23</div></td><td><div class=\"dni-plaintext\">35917.28</div></td><td><div class=\"dni-plaintext\">18904.77910604</div></td></tr><tr><td>14</td><td><span>2021-01-18 00:00:00Z</span></td><td><div class=\"dni-plaintext\">34736.46</div></td><td><div class=\"dni-plaintext\">37402</div></td><td><div class=\"dni-plaintext\">35820.01</div></td><td><div class=\"dni-plaintext\">36624.23</div></td><td><div class=\"dni-plaintext\">16609.64108414</div></td></tr><tr><td>15</td><td><span>2021-01-17 00:00:00Z</span></td><td><div class=\"dni-plaintext\">33850.03</div></td><td><div class=\"dni-plaintext\">36860</div></td><td><div class=\"dni-plaintext\">36004.8</div></td><td><div class=\"dni-plaintext\">35820</div></td><td><div class=\"dni-plaintext\">19182.04934663</div></td></tr><tr><td>16</td><td><span>2021-01-16 00:00:00Z</span></td><td><div class=\"dni-plaintext\">35372.59</div></td><td><div class=\"dni-plaintext\">37948</div></td><td><div class=\"dni-plaintext\">36754.6</div></td><td><div class=\"dni-plaintext\">36006.94</div></td><td><div class=\"dni-plaintext\">20861.42545209</div></td></tr><tr><td>17</td><td><span>2021-01-15 00:00:00Z</span></td><td><div class=\"dni-plaintext\">34298.93</div></td><td><div class=\"dni-plaintext\">39697</div></td><td><div class=\"dni-plaintext\">39123.05</div></td><td><div class=\"dni-plaintext\">36754.67</div></td><td><div class=\"dni-plaintext\">36421.05918785</div></td></tr><tr><td>18</td><td><span>2021-01-14 00:00:00Z</span></td><td><div class=\"dni-plaintext\">36751.11</div></td><td><div class=\"dni-plaintext\">40127.66</div></td><td><div class=\"dni-plaintext\">37393.67</div></td><td><div class=\"dni-plaintext\">39125.14</div></td><td><div class=\"dni-plaintext\">31868.76049365</div></td></tr><tr><td>19</td><td><span>2021-01-13 00:00:00Z</span></td><td><div class=\"dni-plaintext\">32309.04</div></td><td><div class=\"dni-plaintext\">37888</div></td><td><div class=\"dni-plaintext\">34035.53</div></td><td><div class=\"dni-plaintext\">37393.66</div></td><td><div class=\"dni-plaintext\">39608.73718747</div></td></tr><tr><td colspan=\"7\">(12 more)</td></tr></tbody></table>"
      ]
     },
     "metadata": {},
     "output_type": "display_data"
    }
   ],
   "source": [
    "result"
   ]
  },
  {
   "cell_type": "code",
   "execution_count": null,
   "metadata": {
    "dotnet_interactive": {
     "language": "csharp"
    }
   },
   "outputs": [
    {
     "name": "stdout",
     "output_type": "stream",
     "text": [
      "Retrieving from 2/12/2021 12:00:00 AM to 11/29/2021 12:00:00 AM\r\n",
      "Retrieving from 4/28/2020 12:00:00 AM to 2/12/2021 12:00:00 AM\r\n",
      "Retrieving from 7/13/2019 12:00:00 AM to 4/28/2020 12:00:00 AM\r\n",
      "Retrieving from 9/26/2018 12:00:00 AM to 7/13/2019 12:00:00 AM\r\n",
      "Retrieving from 12/10/2017 12:00:00 AM to 9/26/2018 12:00:00 AM\r\n",
      "Retrieving from 2/23/2017 12:00:00 AM to 12/10/2017 12:00:00 AM\r\n",
      "Retrieving from 5/9/2016 12:00:00 AM to 2/23/2017 12:00:00 AM\r\n",
      "Retrieving from 7/24/2015 12:00:00 AM to 5/9/2016 12:00:00 AM\r\n",
      "Retrieving from 10/7/2014 12:00:00 AM to 7/24/2015 12:00:00 AM\r\n",
      "Retrieving from 12/21/2013 12:00:00 AM to 10/7/2014 12:00:00 AM\r\n"
     ]
    }
   ],
   "source": [
    "var b = DateTime.Today;\n",
    "var a = b - TimeSpan.FromDays(290);\n",
    "\n",
    "var ls = new List<Candle>();\n",
    "\n",
    "while (true)\n",
    "{\n",
    "    Console.WriteLine(\"Retrieving from {0} to {1}\", a, b);\n",
    "\n",
    "    var result = client.MarketData.GetHistoricRatesAsync(\"BTC-USD\", a, b, 86400).Result;\n",
    "\n",
    "    if (result.Count() > 0)\n",
    "    {\n",
    "        ls.AddRange(result);\n",
    "\n",
    "        b = a;\n",
    "        a = b - TimeSpan.FromDays(290);\n",
    "    }\n",
    "    else\n",
    "    {\n",
    "        break;\n",
    "    }\n",
    "}\n",
    "\n",
    "\n",
    "// var b = DateTime.Today;\n",
    "// var a = b - TimeSpan.FromDays(290);\n",
    "\n",
    "// var ls = new List<Candle>();\n",
    "\n",
    "// while (true)\n",
    "// {\n",
    "//     Console.WriteLine(\"Retrieving from {0} to {1}\", a, b);\n",
    "\n",
    "//     var result = client.MarketData.GetHistoricRatesAsync(\"BTC-USD\", a, b, 86400).Result;\n",
    "\n",
    "//     if (result.Count() > 0)\n",
    "//     {\n",
    "//         ls.AddRange(result);\n",
    "\n",
    "//         b = a - TimeSpan.FromDays(1);\n",
    "//         a = b - TimeSpan.FromDays(290);\n",
    "//     }\n",
    "//     else\n",
    "//     {\n",
    "//         break;\n",
    "//     }\n",
    "// }"
   ]
  },
  {
   "cell_type": "code",
   "execution_count": null,
   "metadata": {
    "dotnet_interactive": {
     "language": "csharp"
    }
   },
   "outputs": [],
   "source": [
    "using System.Text.Json;\n",
    "\n",
    "List<Candle> GetData(string product_id)\n",
    "{\n",
    "    var path = String.Format(\"{0}.json\", product_id);\n",
    "\n",
    "    if (File.Exists(path))\n",
    "    {\n",
    "        Console.WriteLine(\"Loading from file {0}\", path);\n",
    "        \n",
    "        return JsonSerializer.Deserialize<List<Candle>>(File.ReadAllText(path));\n",
    "    }\n",
    "    else\n",
    "    {\n",
    "        Console.WriteLine(\"Downloading\");\n",
    "\n",
    "        var b = DateTime.Today;\n",
    "        var a = b - TimeSpan.FromDays(290);\n",
    "        \n",
    "        var ls = new List<Candle>();\n",
    "        \n",
    "        while (true)\n",
    "        {\n",
    "            Console.WriteLine(\"Retrieving from {0} to {1}\", a, b);\n",
    "        \n",
    "            var result = client.MarketData.GetHistoricRatesAsync(\"BTC-USD\", a, b, 86400).Result;\n",
    "        \n",
    "            if (result.Count() > 0)\n",
    "            {\n",
    "                ls.AddRange(result);\n",
    "        \n",
    "                b = a;\n",
    "                a = b - TimeSpan.FromDays(290);\n",
    "            }\n",
    "            else\n",
    "            {\n",
    "                break;\n",
    "            }\n",
    "        }\n",
    "\n",
    "        var ls_ordered = ls.OrderBy(candle => candle.Time);\n",
    "        \n",
    "        var json = JsonSerializer.Serialize(ls_ordered);\n",
    "\n",
    "        File.WriteAllTextAsync(path, json).Wait();\n",
    "\n",
    "        return ls_ordered.ToList();\n",
    "    }\n",
    "}\n"
   ]
  },
  {
   "cell_type": "code",
   "execution_count": null,
   "metadata": {
    "dotnet_interactive": {
     "language": "csharp"
    }
   },
   "outputs": [
    {
     "name": "stdout",
     "output_type": "stream",
     "text": [
      "Downloading\r\n",
      "Retrieving from 2/12/2021 12:00:00 AM to 11/29/2021 12:00:00 AM\r\n",
      "Retrieving from 4/28/2020 12:00:00 AM to 2/12/2021 12:00:00 AM\r\n",
      "Retrieving from 7/13/2019 12:00:00 AM to 4/28/2020 12:00:00 AM\r\n",
      "Retrieving from 9/26/2018 12:00:00 AM to 7/13/2019 12:00:00 AM\r\n",
      "Retrieving from 12/10/2017 12:00:00 AM to 9/26/2018 12:00:00 AM\r\n",
      "Retrieving from 2/23/2017 12:00:00 AM to 12/10/2017 12:00:00 AM\r\n",
      "Retrieving from 5/9/2016 12:00:00 AM to 2/23/2017 12:00:00 AM\r\n",
      "Retrieving from 7/24/2015 12:00:00 AM to 5/9/2016 12:00:00 AM\r\n",
      "Retrieving from 10/7/2014 12:00:00 AM to 7/24/2015 12:00:00 AM\r\n",
      "Retrieving from 12/21/2013 12:00:00 AM to 10/7/2014 12:00:00 AM\r\n"
     ]
    }
   ],
   "source": [
    "var data = GetData(\"BTC-USD\");"
   ]
  },
  {
   "cell_type": "code",
   "execution_count": null,
   "metadata": {
    "dotnet_interactive": {
     "language": "csharp"
    }
   },
   "outputs": [],
   "source": [
    "var a = new DateTime(2015, 7, 24);\n",
    "var b = new DateTime(2016, 5, 9);"
   ]
  },
  {
   "cell_type": "code",
   "execution_count": null,
   "metadata": {
    "dotnet_interactive": {
     "language": "csharp"
    }
   },
   "outputs": [
    {
     "data": {
      "text/html": [
       "<i>(empty)</i>"
      ]
     },
     "metadata": {},
     "output_type": "display_data"
    }
   ],
   "source": [
    "var result = client.MarketData.GetHistoricRatesAsync(\"BTC-USD\", a, b, 86400).Result;\n",
    "\n",
    "result.OrderBy(candle => candle.Time)"
   ]
  },
  {
   "cell_type": "code",
   "execution_count": null,
   "metadata": {
    "dotnet_interactive": {
     "language": "csharp"
    }
   },
   "outputs": [
    {
     "data": {
      "text/html": [
       "<span>2013-12-21 00:00:00Z</span>"
      ]
     },
     "metadata": {},
     "output_type": "display_data"
    },
    {
     "data": {
      "text/html": [
       "<span>2014-10-07 00:00:00Z</span>"
      ]
     },
     "metadata": {},
     "output_type": "display_data"
    }
   ],
   "source": [
    "b = a;\n",
    "a = b - TimeSpan.FromDays(290);\n",
    "\n",
    "display(a);\n",
    "display(b);"
   ]
  },
  {
   "cell_type": "code",
   "execution_count": null,
   "metadata": {
    "dotnet_interactive": {
     "language": "csharp"
    }
   },
   "outputs": [
    {
     "data": {
      "text/html": [
       "<table><thead><tr><th><i>index</i></th><th>Time</th><th>Low</th><th>High</th><th>Open</th><th>Close</th><th>Volume</th></tr></thead><tbody><tr><td>0</td><td><span>2015-07-20 00:00:00Z</span></td><td><div class=\"dni-plaintext\">277.37</div></td><td><div class=\"dni-plaintext\">280</div></td><td><div class=\"dni-plaintext\">277.98</div></td><td><div class=\"dni-plaintext\">280</div></td><td><div class=\"dni-plaintext\">782.88341959</div></td></tr><tr><td>1</td><td><span>2015-07-21 00:00:00Z</span></td><td><div class=\"dni-plaintext\">276.85</div></td><td><div class=\"dni-plaintext\">281.27</div></td><td><div class=\"dni-plaintext\">279.96</div></td><td><div class=\"dni-plaintext\">277.32</div></td><td><div class=\"dni-plaintext\">4943.55943437</div></td></tr><tr><td>2</td><td><span>2015-07-22 00:00:00Z</span></td><td><div class=\"dni-plaintext\">275.01</div></td><td><div class=\"dni-plaintext\">278.54</div></td><td><div class=\"dni-plaintext\">277.33</div></td><td><div class=\"dni-plaintext\">277.89</div></td><td><div class=\"dni-plaintext\">4687.90938331</div></td></tr><tr><td>3</td><td><span>2015-07-23 00:00:00Z</span></td><td><div class=\"dni-plaintext\">276.28</div></td><td><div class=\"dni-plaintext\">279.75</div></td><td><div class=\"dni-plaintext\">277.96</div></td><td><div class=\"dni-plaintext\">277.39</div></td><td><div class=\"dni-plaintext\">5306.91957531</div></td></tr><tr><td>4</td><td><span>2015-07-24 00:00:00Z</span></td><td><div class=\"dni-plaintext\">276.43</div></td><td><div class=\"dni-plaintext\">291.52</div></td><td><div class=\"dni-plaintext\">277.23</div></td><td><div class=\"dni-plaintext\">289.12</div></td><td><div class=\"dni-plaintext\">7362.46908295</div></td></tr><tr><td>5</td><td><span>2015-07-25 00:00:00Z</span></td><td><div class=\"dni-plaintext\">286.82</div></td><td><div class=\"dni-plaintext\">291.67</div></td><td><div class=\"dni-plaintext\">289.12</div></td><td><div class=\"dni-plaintext\">289.7</div></td><td><div class=\"dni-plaintext\">4102.45296008</div></td></tr><tr><td>6</td><td><span>2015-07-26 00:00:00Z</span></td><td><div class=\"dni-plaintext\">288.65</div></td><td><div class=\"dni-plaintext\">294.49</div></td><td><div class=\"dni-plaintext\">289.68</div></td><td><div class=\"dni-plaintext\">293.89</div></td><td><div class=\"dni-plaintext\">3735.24660255</div></td></tr><tr><td>7</td><td><span>2015-07-27 00:00:00Z</span></td><td><div class=\"dni-plaintext\">287.24</div></td><td><div class=\"dni-plaintext\">297</div></td><td><div class=\"dni-plaintext\">293.88</div></td><td><div class=\"dni-plaintext\">294.21</div></td><td><div class=\"dni-plaintext\">6461.0331349</div></td></tr><tr><td>8</td><td><span>2015-07-28 00:00:00Z</span></td><td><div class=\"dni-plaintext\">293.65</div></td><td><div class=\"dni-plaintext\">298</div></td><td><div class=\"dni-plaintext\">294.22</div></td><td><div class=\"dni-plaintext\">295.76</div></td><td><div class=\"dni-plaintext\">5761.8696177</div></td></tr><tr><td>9</td><td><span>2015-07-29 00:00:00Z</span></td><td><div class=\"dni-plaintext\">289.01</div></td><td><div class=\"dni-plaintext\">296.58</div></td><td><div class=\"dni-plaintext\">295.74</div></td><td><div class=\"dni-plaintext\">290.19</div></td><td><div class=\"dni-plaintext\">5223.50717064</div></td></tr><tr><td>10</td><td><span>2015-07-30 00:00:00Z</span></td><td><div class=\"dni-plaintext\">286.56</div></td><td><div class=\"dni-plaintext\">291.56</div></td><td><div class=\"dni-plaintext\">290.26</div></td><td><div class=\"dni-plaintext\">288.49</div></td><td><div class=\"dni-plaintext\">5138.98154856</div></td></tr><tr><td>11</td><td><span>2015-07-31 00:00:00Z</span></td><td><div class=\"dni-plaintext\">282.79</div></td><td><div class=\"dni-plaintext\">290</div></td><td><div class=\"dni-plaintext\">288.49</div></td><td><div class=\"dni-plaintext\">285.19</div></td><td><div class=\"dni-plaintext\">5676.61845893</div></td></tr><tr><td>12</td><td><span>2015-08-01 00:00:00Z</span></td><td><div class=\"dni-plaintext\">277.26</div></td><td><div class=\"dni-plaintext\">285.6</div></td><td><div class=\"dni-plaintext\">285.2</div></td><td><div class=\"dni-plaintext\">281.53</div></td><td><div class=\"dni-plaintext\">3932.44975145</div></td></tr><tr><td>13</td><td><span>2015-08-02 00:00:00Z</span></td><td><div class=\"dni-plaintext\">277.33</div></td><td><div class=\"dni-plaintext\">282.62</div></td><td><div class=\"dni-plaintext\">281.53</div></td><td><div class=\"dni-plaintext\">282.62</div></td><td><div class=\"dni-plaintext\">3361.0866893</div></td></tr><tr><td>14</td><td><span>2015-08-03 00:00:00Z</span></td><td><div class=\"dni-plaintext\">280.27</div></td><td><div class=\"dni-plaintext\">285.86</div></td><td><div class=\"dni-plaintext\">282.62</div></td><td><div class=\"dni-plaintext\">280.95</div></td><td><div class=\"dni-plaintext\">4741.72910667</div></td></tr><tr><td>15</td><td><span>2015-08-04 00:00:00Z</span></td><td><div class=\"dni-plaintext\">280.11</div></td><td><div class=\"dni-plaintext\">286.47</div></td><td><div class=\"dni-plaintext\">280.95</div></td><td><div class=\"dni-plaintext\">285.51</div></td><td><div class=\"dni-plaintext\">5580.22052955</div></td></tr><tr><td>16</td><td><span>2015-08-05 00:00:00Z</span></td><td><div class=\"dni-plaintext\">282.01</div></td><td><div class=\"dni-plaintext\">286.25</div></td><td><div class=\"dni-plaintext\">285.6</div></td><td><div class=\"dni-plaintext\">282.77</div></td><td><div class=\"dni-plaintext\">5765.48779667</div></td></tr><tr><td>17</td><td><span>2015-08-06 00:00:00Z</span></td><td><div class=\"dni-plaintext\">278.95</div></td><td><div class=\"dni-plaintext\">282.61</div></td><td><div class=\"dni-plaintext\">282.44</div></td><td><div class=\"dni-plaintext\">279.65</div></td><td><div class=\"dni-plaintext\">5027.85564067</div></td></tr><tr><td>18</td><td><span>2015-08-07 00:00:00Z</span></td><td><div class=\"dni-plaintext\">277.05</div></td><td><div class=\"dni-plaintext\">281.17</div></td><td><div class=\"dni-plaintext\">279.37</div></td><td><div class=\"dni-plaintext\">279.94</div></td><td><div class=\"dni-plaintext\">5212.45690065</div></td></tr><tr><td>19</td><td><span>2015-08-08 00:00:00Z</span></td><td><div class=\"dni-plaintext\">260.07</div></td><td><div class=\"dni-plaintext\">280.16</div></td><td><div class=\"dni-plaintext\">280.06</div></td><td><div class=\"dni-plaintext\">262.02</div></td><td><div class=\"dni-plaintext\">6085.44943664</div></td></tr><tr><td colspan=\"7\">(2305 more)</td></tr></tbody></table>"
      ]
     },
     "metadata": {},
     "output_type": "display_data"
    }
   ],
   "source": [
    "data"
   ]
  },
  {
   "cell_type": "code",
   "execution_count": null,
   "metadata": {
    "dotnet_interactive": {
     "language": "csharp"
    }
   },
   "outputs": [],
   "source": []
  }
 ],
 "metadata": {
  "kernelspec": {
   "display_name": ".NET (C#)",
   "language": "C#",
   "name": ".net-csharp"
  },
  "language_info": {
   "name": "C#"
  }
 },
 "nbformat": 4,
 "nbformat_minor": 2
}
