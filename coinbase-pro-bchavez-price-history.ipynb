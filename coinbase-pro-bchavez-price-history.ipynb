{
 "cells": [
  {
   "cell_type": "code",
   "execution_count": null,
   "metadata": {
    "dotnet_interactive": {
     "language": "csharp"
    }
   },
   "outputs": [
    {
     "data": {
      "text/html": [
       "<div><div></div><div></div><div><strong>Installed Packages</strong><ul><li><span>Coinbase.Pro, 4.1.3</span></li></ul></div></div>"
      ]
     },
     "metadata": {},
     "output_type": "display_data"
    }
   ],
   "source": [
    "#r \"nuget: Coinbase.Pro\""
   ]
  },
  {
   "cell_type": "code",
   "execution_count": null,
   "metadata": {
    "dotnet_interactive": {
     "language": "csharp"
    }
   },
   "outputs": [],
   "source": [
    "using System.IO;\n",
    "using Coinbase.Pro;\n",
    "using Coinbase.Pro.Models;"
   ]
  },
  {
   "cell_type": "code",
   "execution_count": null,
   "metadata": {
    "dotnet_interactive": {
     "language": "csharp"
    }
   },
   "outputs": [],
   "source": [
    "var api_key = File.ReadAllText(\n",
    "    Path.Combine(\n",
    "        Environment.GetFolderPath(Environment.SpecialFolder.UserProfile), \n",
    "        \"coinbase-pro-api-key\"), \n",
    "    System.Text.Encoding.UTF8);\n",
    "\n",
    "var api_secret = File.ReadAllText(\n",
    "    Path.Combine(\n",
    "        Environment.GetFolderPath(Environment.SpecialFolder.UserProfile), \n",
    "        \"coinbase-pro-api-secret\"), \n",
    "    System.Text.Encoding.UTF8);\n",
    "\n",
    "var api_passphrase = File.ReadAllText(\n",
    "    Path.Combine(\n",
    "        Environment.GetFolderPath(Environment.SpecialFolder.UserProfile), \n",
    "        \"coinbase-pro-api-passphrase\"), \n",
    "    System.Text.Encoding.UTF8);"
   ]
  },
  {
   "cell_type": "code",
   "execution_count": null,
   "metadata": {
    "dotnet_interactive": {
     "language": "csharp"
    }
   },
   "outputs": [],
   "source": [
    "var client = new CoinbaseProClient(new Config() \n",
    "{\n",
    "    ApiKey = api_key,\n",
    "    Secret = api_secret,\n",
    "    Passphrase = api_passphrase\n",
    "});"
   ]
  },
  {
   "cell_type": "code",
   "execution_count": null,
   "metadata": {
    "dotnet_interactive": {
     "language": "csharp"
    }
   },
   "outputs": [],
   "source": [
    "using System.Text.Json;\n",
    "\n",
    "List<Candle> GetData(string product_id)\n",
    "{\n",
    "    var path = String.Format(\"{0}.json\", product_id);\n",
    "\n",
    "    if (File.Exists(path))\n",
    "    {\n",
    "        Console.WriteLine(\"Loading from file {0}\", path);\n",
    "        \n",
    "        return JsonSerializer.Deserialize<List<Candle>>(File.ReadAllText(path));\n",
    "    }\n",
    "    else\n",
    "    {\n",
    "        Console.WriteLine(\"Downloading\");\n",
    "\n",
    "        var b = DateTime.Today;\n",
    "        var a = b - TimeSpan.FromDays(290);\n",
    "        \n",
    "        var ls = new List<Candle>();\n",
    "        \n",
    "        while (true)\n",
    "        {\n",
    "            Console.WriteLine(\"Retrieving from {0:yyyy-MM-dd} to {1:yyyy-MM-dd}\", a, b);\n",
    "        \n",
    "            var result = client.MarketData.GetHistoricRatesAsync(product_id, a, b, 86400).Result;\n",
    "        \n",
    "            if (result.Count() > 0)\n",
    "            {\n",
    "                ls.AddRange(result);\n",
    "        \n",
    "                b = a;\n",
    "                a = b - TimeSpan.FromDays(290);\n",
    "            }\n",
    "            else\n",
    "            {\n",
    "                break;\n",
    "            }\n",
    "        }\n",
    "\n",
    "        var ls_ordered = ls.OrderBy(candle => candle.Time);\n",
    "        \n",
    "        var json = JsonSerializer.Serialize(ls_ordered);\n",
    "\n",
    "        File.WriteAllTextAsync(path, json).Wait();\n",
    "\n",
    "        return ls_ordered.ToList();\n",
    "    }\n",
    "}\n"
   ]
  },
  {
   "cell_type": "code",
   "execution_count": null,
   "metadata": {
    "dotnet_interactive": {
     "language": "csharp"
    }
   },
   "outputs": [
    {
     "name": "stdout",
     "output_type": "stream",
     "text": [
      "Loading from file ETH-USD.json\r\n"
     ]
    }
   ],
   "source": [
    "// var data = GetData(\"BTC-USD\");\n",
    "\n",
    "var data = GetData(\"ETH-USD\");"
   ]
  },
  {
   "cell_type": "code",
   "execution_count": null,
   "metadata": {
    "dotnet_interactive": {
     "language": "csharp"
    }
   },
   "outputs": [
    {
     "data": {
      "text/html": [
       "<table><thead><tr><th><i>index</i></th><th>Time</th><th>Low</th><th>High</th><th>Open</th><th>Close</th><th>Volume</th></tr></thead><tbody><tr><td>0</td><td><span>2016-05-18 00:00:00Z</span></td><td><div class=\"dni-plaintext\">12.5</div></td><td><div class=\"dni-plaintext\">14.93</div></td><td><div class=\"dni-plaintext\">12.5</div></td><td><div class=\"dni-plaintext\">13.18</div></td><td><div class=\"dni-plaintext\">482.52182654</div></td></tr><tr><td>1</td><td><span>2016-05-19 00:00:00Z</span></td><td><div class=\"dni-plaintext\">13</div></td><td><div class=\"dni-plaintext\">14.9</div></td><td><div class=\"dni-plaintext\">13.18</div></td><td><div class=\"dni-plaintext\">14.9</div></td><td><div class=\"dni-plaintext\">950.44120523</div></td></tr><tr><td>2</td><td><span>2016-05-20 00:00:00Z</span></td><td><div class=\"dni-plaintext\">13.71</div></td><td><div class=\"dni-plaintext\">14.82</div></td><td><div class=\"dni-plaintext\">14.82</div></td><td><div class=\"dni-plaintext\">14.17</div></td><td><div class=\"dni-plaintext\">254.16661711</div></td></tr><tr><td>3</td><td><span>2016-05-23 00:00:00Z</span></td><td><div class=\"dni-plaintext\">13.61</div></td><td><div class=\"dni-plaintext\">13.91</div></td><td><div class=\"dni-plaintext\">13.86</div></td><td><div class=\"dni-plaintext\">13.61</div></td><td><div class=\"dni-plaintext\">180.78671194</div></td></tr><tr><td>4</td><td><span>2016-05-24 00:00:00Z</span></td><td><div class=\"dni-plaintext\">12</div></td><td><div class=\"dni-plaintext\">13.74</div></td><td><div class=\"dni-plaintext\">13.68</div></td><td><div class=\"dni-plaintext\">12.77</div></td><td><div class=\"dni-plaintext\">2753.23929761</div></td></tr><tr><td>5</td><td><span>2016-05-25 00:00:00Z</span></td><td><div class=\"dni-plaintext\">11.93</div></td><td><div class=\"dni-plaintext\">13.18</div></td><td><div class=\"dni-plaintext\">13</div></td><td><div class=\"dni-plaintext\">12.61</div></td><td><div class=\"dni-plaintext\">9697.18159109</div></td></tr><tr><td>6</td><td><span>2016-05-26 00:00:00Z</span></td><td><div class=\"dni-plaintext\">12.15</div></td><td><div class=\"dni-plaintext\">12.95</div></td><td><div class=\"dni-plaintext\">12.61</div></td><td><div class=\"dni-plaintext\">12.47</div></td><td><div class=\"dni-plaintext\">2989.89095855</div></td></tr><tr><td>7</td><td><span>2016-05-27 00:00:00Z</span></td><td><div class=\"dni-plaintext\">10.25</div></td><td><div class=\"dni-plaintext\">12.47</div></td><td><div class=\"dni-plaintext\">12.47</div></td><td><div class=\"dni-plaintext\">10.98</div></td><td><div class=\"dni-plaintext\">19334.80270001</div></td></tr><tr><td>8</td><td><span>2016-05-28 00:00:00Z</span></td><td><div class=\"dni-plaintext\">10.7</div></td><td><div class=\"dni-plaintext\">12.44</div></td><td><div class=\"dni-plaintext\">11.3</div></td><td><div class=\"dni-plaintext\">12.02</div></td><td><div class=\"dni-plaintext\">15681.8628585</div></td></tr><tr><td>9</td><td><span>2016-05-29 00:00:00Z</span></td><td><div class=\"dni-plaintext\">11.7</div></td><td><div class=\"dni-plaintext\">12.49</div></td><td><div class=\"dni-plaintext\">12.02</div></td><td><div class=\"dni-plaintext\">12.34</div></td><td><div class=\"dni-plaintext\">3387.40487214</div></td></tr><tr><td>10</td><td><span>2016-05-30 00:00:00Z</span></td><td><div class=\"dni-plaintext\">12</div></td><td><div class=\"dni-plaintext\">12.88</div></td><td><div class=\"dni-plaintext\">12.35</div></td><td><div class=\"dni-plaintext\">12.88</div></td><td><div class=\"dni-plaintext\">4135.59302674</div></td></tr><tr><td>11</td><td><span>2016-05-31 00:00:00Z</span></td><td><div class=\"dni-plaintext\">12.37</div></td><td><div class=\"dni-plaintext\">14.24</div></td><td><div class=\"dni-plaintext\">12.84</div></td><td><div class=\"dni-plaintext\">14.16</div></td><td><div class=\"dni-plaintext\">5807.80267105</div></td></tr><tr><td>12</td><td><span>2016-06-01 00:00:00Z</span></td><td><div class=\"dni-plaintext\">13.5</div></td><td><div class=\"dni-plaintext\">14.45</div></td><td><div class=\"dni-plaintext\">14.15</div></td><td><div class=\"dni-plaintext\">13.93</div></td><td><div class=\"dni-plaintext\">10399.90743021</div></td></tr><tr><td>13</td><td><span>2016-06-02 00:00:00Z</span></td><td><div class=\"dni-plaintext\">13.76</div></td><td><div class=\"dni-plaintext\">14.18</div></td><td><div class=\"dni-plaintext\">13.93</div></td><td><div class=\"dni-plaintext\">14.03</div></td><td><div class=\"dni-plaintext\">8053.87238728</div></td></tr><tr><td>14</td><td><span>2016-06-03 00:00:00Z</span></td><td><div class=\"dni-plaintext\">13.49</div></td><td><div class=\"dni-plaintext\">14.12</div></td><td><div class=\"dni-plaintext\">14.03</div></td><td><div class=\"dni-plaintext\">13.98</div></td><td><div class=\"dni-plaintext\">13008.11158384</div></td></tr><tr><td>15</td><td><span>2016-06-04 00:00:00Z</span></td><td><div class=\"dni-plaintext\">13.56</div></td><td><div class=\"dni-plaintext\">14.03</div></td><td><div class=\"dni-plaintext\">13.98</div></td><td><div class=\"dni-plaintext\">13.95</div></td><td><div class=\"dni-plaintext\">6261.45920002</div></td></tr><tr><td>16</td><td><span>2016-06-05 00:00:00Z</span></td><td><div class=\"dni-plaintext\">13.8</div></td><td><div class=\"dni-plaintext\">14.06</div></td><td><div class=\"dni-plaintext\">13.97</div></td><td><div class=\"dni-plaintext\">14.04</div></td><td><div class=\"dni-plaintext\">1959.58572034</div></td></tr><tr><td>17</td><td><span>2016-06-06 00:00:00Z</span></td><td><div class=\"dni-plaintext\">13.83</div></td><td><div class=\"dni-plaintext\">14.3</div></td><td><div class=\"dni-plaintext\">14.02</div></td><td><div class=\"dni-plaintext\">14.22</div></td><td><div class=\"dni-plaintext\">5140.25595197</div></td></tr><tr><td>18</td><td><span>2016-06-07 00:00:00Z</span></td><td><div class=\"dni-plaintext\">13.97</div></td><td><div class=\"dni-plaintext\">14.69</div></td><td><div class=\"dni-plaintext\">14.21</div></td><td><div class=\"dni-plaintext\">14.52</div></td><td><div class=\"dni-plaintext\">13018.45243483</div></td></tr><tr><td>19</td><td><span>2016-06-08 00:00:00Z</span></td><td><div class=\"dni-plaintext\">14.4</div></td><td><div class=\"dni-plaintext\">14.87</div></td><td><div class=\"dni-plaintext\">14.53</div></td><td><div class=\"dni-plaintext\">14.64</div></td><td><div class=\"dni-plaintext\">12612.50810563</div></td></tr><tr><td colspan=\"7\">(2000 more)</td></tr></tbody></table>"
      ]
     },
     "metadata": {},
     "output_type": "display_data"
    }
   ],
   "source": [
    "data"
   ]
  },
  {
   "cell_type": "code",
   "execution_count": null,
   "metadata": {
    "dotnet_interactive": {
     "language": "csharp"
    }
   },
   "outputs": [],
   "source": []
  }
 ],
 "metadata": {
  "kernelspec": {
   "display_name": ".NET (C#)",
   "language": "C#",
   "name": ".net-csharp"
  },
  "language_info": {
   "name": "C#"
  }
 },
 "nbformat": 4,
 "nbformat_minor": 2
}
