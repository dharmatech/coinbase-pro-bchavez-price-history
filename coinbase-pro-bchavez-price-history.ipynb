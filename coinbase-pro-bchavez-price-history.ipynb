{
 "cells": [
  {
   "cell_type": "code",
   "execution_count": null,
   "metadata": {
    "dotnet_interactive": {
     "language": "csharp"
    }
   },
   "outputs": [
    {
     "data": {
      "text/html": [
       "<div><div></div><div></div><div><strong>Installed Packages</strong><ul><li><span>Coinbase.Pro, 4.1.3</span></li></ul></div></div>"
      ]
     },
     "metadata": {},
     "output_type": "display_data"
    }
   ],
   "source": [
    "#r \"nuget: Coinbase.Pro\""
   ]
  },
  {
   "cell_type": "code",
   "execution_count": null,
   "metadata": {
    "dotnet_interactive": {
     "language": "csharp"
    }
   },
   "outputs": [],
   "source": [
    "using System.IO;\n",
    "using Coinbase.Pro;\n",
    "using Coinbase.Pro.Models;"
   ]
  },
  {
   "cell_type": "code",
   "execution_count": null,
   "metadata": {
    "dotnet_interactive": {
     "language": "csharp"
    }
   },
   "outputs": [],
   "source": [
    "var api_key = File.ReadAllText(\n",
    "    Path.Combine(\n",
    "        Environment.GetFolderPath(Environment.SpecialFolder.UserProfile), \n",
    "        \"coinbase-pro-api-key\"), \n",
    "    System.Text.Encoding.UTF8);\n",
    "\n",
    "var api_secret = File.ReadAllText(\n",
    "    Path.Combine(\n",
    "        Environment.GetFolderPath(Environment.SpecialFolder.UserProfile), \n",
    "        \"coinbase-pro-api-secret\"), \n",
    "    System.Text.Encoding.UTF8);\n",
    "\n",
    "var api_passphrase = File.ReadAllText(\n",
    "    Path.Combine(\n",
    "        Environment.GetFolderPath(Environment.SpecialFolder.UserProfile), \n",
    "        \"coinbase-pro-api-passphrase\"), \n",
    "    System.Text.Encoding.UTF8);"
   ]
  },
  {
   "cell_type": "code",
   "execution_count": null,
   "metadata": {
    "dotnet_interactive": {
     "language": "csharp"
    }
   },
   "outputs": [],
   "source": [
    "var client = new CoinbaseProClient(new Config() \n",
    "{\n",
    "    ApiKey = api_key,\n",
    "    Secret = api_secret,\n",
    "    Passphrase = api_passphrase\n",
    "});"
   ]
  },
  {
   "cell_type": "code",
   "execution_count": null,
   "metadata": {
    "dotnet_interactive": {
     "language": "csharp"
    }
   },
   "outputs": [],
   "source": [
    "using System.Text.Json;\n",
    "\n",
    "List<Candle> GetData(string product_id)\n",
    "{\n",
    "    var path = String.Format(\"{0}.json\", product_id);\n",
    "\n",
    "    if (File.Exists(path))\n",
    "    {\n",
    "        Console.WriteLine(\"Loading from file {0}\", path);\n",
    "        \n",
    "        return JsonSerializer.Deserialize<List<Candle>>(File.ReadAllText(path));\n",
    "    }\n",
    "    else\n",
    "    {\n",
    "        Console.WriteLine(\"Downloading\");\n",
    "\n",
    "        var b = DateTime.Today;\n",
    "        var a = b - TimeSpan.FromDays(290);\n",
    "        \n",
    "        var ls = new List<Candle>();\n",
    "        \n",
    "        while (true)\n",
    "        {\n",
    "            Console.WriteLine(\"Retrieving from {0:yyyy-MM-dd} to {1:yyyy-MM-dd}\", a, b);\n",
    "        \n",
    "            var result = client.MarketData.GetHistoricRatesAsync(\"BTC-USD\", a, b, 86400).Result;\n",
    "        \n",
    "            if (result.Count() > 0)\n",
    "            {\n",
    "                ls.AddRange(result);\n",
    "        \n",
    "                b = a;\n",
    "                a = b - TimeSpan.FromDays(290);\n",
    "            }\n",
    "            else\n",
    "            {\n",
    "                break;\n",
    "            }\n",
    "        }\n",
    "\n",
    "        var ls_ordered = ls.OrderBy(candle => candle.Time);\n",
    "        \n",
    "        var json = JsonSerializer.Serialize(ls_ordered);\n",
    "\n",
    "        File.WriteAllTextAsync(path, json).Wait();\n",
    "\n",
    "        return ls_ordered.ToList();\n",
    "    }\n",
    "}\n"
   ]
  },
  {
   "cell_type": "code",
   "execution_count": null,
   "metadata": {
    "dotnet_interactive": {
     "language": "csharp"
    }
   },
   "outputs": [
    {
     "name": "stdout",
     "output_type": "stream",
     "text": [
      "Downloading\r\n",
      "Retrieving from 2021-02-12 to 2021-11-29\r\n",
      "Retrieving from 2020-04-28 to 2021-02-12\r\n",
      "Retrieving from 2019-07-13 to 2020-04-28\r\n",
      "Retrieving from 2018-09-26 to 2019-07-13\r\n",
      "Retrieving from 2017-12-10 to 2018-09-26\r\n",
      "Retrieving from 2017-02-23 to 2017-12-10\r\n",
      "Retrieving from 2016-05-09 to 2017-02-23\r\n",
      "Retrieving from 2015-07-24 to 2016-05-09\r\n",
      "Retrieving from 2014-10-07 to 2015-07-24\r\n",
      "Retrieving from 2013-12-21 to 2014-10-07\r\n"
     ]
    }
   ],
   "source": [
    "var data = GetData(\"BTC-USD\");"
   ]
  },
  {
   "cell_type": "code",
   "execution_count": null,
   "metadata": {
    "dotnet_interactive": {
     "language": "csharp"
    }
   },
   "outputs": [
    {
     "data": {
      "text/html": [
       "<table><thead><tr><th><i>index</i></th><th>Time</th><th>Low</th><th>High</th><th>Open</th><th>Close</th><th>Volume</th></tr></thead><tbody><tr><td>0</td><td><span>2015-07-20 00:00:00Z</span></td><td><div class=\"dni-plaintext\">277.37</div></td><td><div class=\"dni-plaintext\">280</div></td><td><div class=\"dni-plaintext\">277.98</div></td><td><div class=\"dni-plaintext\">280</div></td><td><div class=\"dni-plaintext\">782.88341959</div></td></tr><tr><td>1</td><td><span>2015-07-21 00:00:00Z</span></td><td><div class=\"dni-plaintext\">276.85</div></td><td><div class=\"dni-plaintext\">281.27</div></td><td><div class=\"dni-plaintext\">279.96</div></td><td><div class=\"dni-plaintext\">277.32</div></td><td><div class=\"dni-plaintext\">4943.55943437</div></td></tr><tr><td>2</td><td><span>2015-07-22 00:00:00Z</span></td><td><div class=\"dni-plaintext\">275.01</div></td><td><div class=\"dni-plaintext\">278.54</div></td><td><div class=\"dni-plaintext\">277.33</div></td><td><div class=\"dni-plaintext\">277.89</div></td><td><div class=\"dni-plaintext\">4687.90938331</div></td></tr><tr><td>3</td><td><span>2015-07-23 00:00:00Z</span></td><td><div class=\"dni-plaintext\">276.28</div></td><td><div class=\"dni-plaintext\">279.75</div></td><td><div class=\"dni-plaintext\">277.96</div></td><td><div class=\"dni-plaintext\">277.39</div></td><td><div class=\"dni-plaintext\">5306.91957531</div></td></tr><tr><td>4</td><td><span>2015-07-24 00:00:00Z</span></td><td><div class=\"dni-plaintext\">276.43</div></td><td><div class=\"dni-plaintext\">291.52</div></td><td><div class=\"dni-plaintext\">277.23</div></td><td><div class=\"dni-plaintext\">289.12</div></td><td><div class=\"dni-plaintext\">7362.46908295</div></td></tr><tr><td>5</td><td><span>2015-07-25 00:00:00Z</span></td><td><div class=\"dni-plaintext\">286.82</div></td><td><div class=\"dni-plaintext\">291.67</div></td><td><div class=\"dni-plaintext\">289.12</div></td><td><div class=\"dni-plaintext\">289.7</div></td><td><div class=\"dni-plaintext\">4102.45296008</div></td></tr><tr><td>6</td><td><span>2015-07-26 00:00:00Z</span></td><td><div class=\"dni-plaintext\">288.65</div></td><td><div class=\"dni-plaintext\">294.49</div></td><td><div class=\"dni-plaintext\">289.68</div></td><td><div class=\"dni-plaintext\">293.89</div></td><td><div class=\"dni-plaintext\">3735.24660255</div></td></tr><tr><td>7</td><td><span>2015-07-27 00:00:00Z</span></td><td><div class=\"dni-plaintext\">287.24</div></td><td><div class=\"dni-plaintext\">297</div></td><td><div class=\"dni-plaintext\">293.88</div></td><td><div class=\"dni-plaintext\">294.21</div></td><td><div class=\"dni-plaintext\">6461.0331349</div></td></tr><tr><td>8</td><td><span>2015-07-28 00:00:00Z</span></td><td><div class=\"dni-plaintext\">293.65</div></td><td><div class=\"dni-plaintext\">298</div></td><td><div class=\"dni-plaintext\">294.22</div></td><td><div class=\"dni-plaintext\">295.76</div></td><td><div class=\"dni-plaintext\">5761.8696177</div></td></tr><tr><td>9</td><td><span>2015-07-29 00:00:00Z</span></td><td><div class=\"dni-plaintext\">289.01</div></td><td><div class=\"dni-plaintext\">296.58</div></td><td><div class=\"dni-plaintext\">295.74</div></td><td><div class=\"dni-plaintext\">290.19</div></td><td><div class=\"dni-plaintext\">5223.50717064</div></td></tr><tr><td>10</td><td><span>2015-07-30 00:00:00Z</span></td><td><div class=\"dni-plaintext\">286.56</div></td><td><div class=\"dni-plaintext\">291.56</div></td><td><div class=\"dni-plaintext\">290.26</div></td><td><div class=\"dni-plaintext\">288.49</div></td><td><div class=\"dni-plaintext\">5138.98154856</div></td></tr><tr><td>11</td><td><span>2015-07-31 00:00:00Z</span></td><td><div class=\"dni-plaintext\">282.79</div></td><td><div class=\"dni-plaintext\">290</div></td><td><div class=\"dni-plaintext\">288.49</div></td><td><div class=\"dni-plaintext\">285.19</div></td><td><div class=\"dni-plaintext\">5676.61845893</div></td></tr><tr><td>12</td><td><span>2015-08-01 00:00:00Z</span></td><td><div class=\"dni-plaintext\">277.26</div></td><td><div class=\"dni-plaintext\">285.6</div></td><td><div class=\"dni-plaintext\">285.2</div></td><td><div class=\"dni-plaintext\">281.53</div></td><td><div class=\"dni-plaintext\">3932.44975145</div></td></tr><tr><td>13</td><td><span>2015-08-02 00:00:00Z</span></td><td><div class=\"dni-plaintext\">277.33</div></td><td><div class=\"dni-plaintext\">282.62</div></td><td><div class=\"dni-plaintext\">281.53</div></td><td><div class=\"dni-plaintext\">282.62</div></td><td><div class=\"dni-plaintext\">3361.0866893</div></td></tr><tr><td>14</td><td><span>2015-08-03 00:00:00Z</span></td><td><div class=\"dni-plaintext\">280.27</div></td><td><div class=\"dni-plaintext\">285.86</div></td><td><div class=\"dni-plaintext\">282.62</div></td><td><div class=\"dni-plaintext\">280.95</div></td><td><div class=\"dni-plaintext\">4741.72910667</div></td></tr><tr><td>15</td><td><span>2015-08-04 00:00:00Z</span></td><td><div class=\"dni-plaintext\">280.11</div></td><td><div class=\"dni-plaintext\">286.47</div></td><td><div class=\"dni-plaintext\">280.95</div></td><td><div class=\"dni-plaintext\">285.51</div></td><td><div class=\"dni-plaintext\">5580.22052955</div></td></tr><tr><td>16</td><td><span>2015-08-05 00:00:00Z</span></td><td><div class=\"dni-plaintext\">282.01</div></td><td><div class=\"dni-plaintext\">286.25</div></td><td><div class=\"dni-plaintext\">285.6</div></td><td><div class=\"dni-plaintext\">282.77</div></td><td><div class=\"dni-plaintext\">5765.48779667</div></td></tr><tr><td>17</td><td><span>2015-08-06 00:00:00Z</span></td><td><div class=\"dni-plaintext\">278.95</div></td><td><div class=\"dni-plaintext\">282.61</div></td><td><div class=\"dni-plaintext\">282.44</div></td><td><div class=\"dni-plaintext\">279.65</div></td><td><div class=\"dni-plaintext\">5027.85564067</div></td></tr><tr><td>18</td><td><span>2015-08-07 00:00:00Z</span></td><td><div class=\"dni-plaintext\">277.05</div></td><td><div class=\"dni-plaintext\">281.17</div></td><td><div class=\"dni-plaintext\">279.37</div></td><td><div class=\"dni-plaintext\">279.94</div></td><td><div class=\"dni-plaintext\">5212.45690065</div></td></tr><tr><td>19</td><td><span>2015-08-08 00:00:00Z</span></td><td><div class=\"dni-plaintext\">260.07</div></td><td><div class=\"dni-plaintext\">280.16</div></td><td><div class=\"dni-plaintext\">280.06</div></td><td><div class=\"dni-plaintext\">262.02</div></td><td><div class=\"dni-plaintext\">6085.44943664</div></td></tr><tr><td colspan=\"7\">(2305 more)</td></tr></tbody></table>"
      ]
     },
     "metadata": {},
     "output_type": "display_data"
    }
   ],
   "source": [
    "data"
   ]
  },
  {
   "cell_type": "code",
   "execution_count": null,
   "metadata": {
    "dotnet_interactive": {
     "language": "csharp"
    }
   },
   "outputs": [],
   "source": []
  }
 ],
 "metadata": {
  "kernelspec": {
   "display_name": ".NET (C#)",
   "language": "C#",
   "name": ".net-csharp"
  },
  "language_info": {
   "name": "C#"
  }
 },
 "nbformat": 4,
 "nbformat_minor": 2
}
